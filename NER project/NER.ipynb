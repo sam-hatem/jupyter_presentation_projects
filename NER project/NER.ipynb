{
 "cells": [
  {
   "cell_type": "code",
   "execution_count": 315,
   "metadata": {},
   "outputs": [],
   "source": [
    "import pandas as pd \n",
    "import tensorflow as tf \n",
    "from tensorflow import keras\n",
    "import numpy as np \n",
    "import seaborn as sns \n",
    "import nltk as nlp\n",
    "import string\n",
    "import matplotlib.pyplot as plt\n",
    "from bs4 import BeautifulSoup\n",
    "import re"
   ]
  },
  {
   "cell_type": "code",
   "execution_count": 316,
   "metadata": {},
   "outputs": [],
   "source": [
    "plt.rc(\"font\",size = 15)\n",
    "sns.set(style=\"dark\")\n",
    "sns.set(style=\"darkgrid\")\n",
    "sns.set(rc={'figure.figsize':(10,10)})\n",
    "%matplotlib inline\n",
    "pd.set_option('display.max_columns',500)"
   ]
  },
  {
   "cell_type": "code",
   "execution_count": 317,
   "metadata": {},
   "outputs": [],
   "source": [
    "#import data \n",
    "train = pd.read_csv(\"train.txt\", sep= '\\s+', engine='python')\n",
    "test = pd.read_csv(\"test.txt\",  sep = 'delimiter', header=None,engine='python')\n",
    "test.columns = ['text']"
   ]
  },
  {
   "cell_type": "markdown",
   "metadata": {},
   "source": [
    "# Initial Analysis"
   ]
  },
  {
   "cell_type": "markdown",
   "metadata": {},
   "source": [
    "## Assumptions and Observations: \n",
    "<br>\n",
    "1) Dealing with blank lines; the empty text with no tags in the set was not imported. \n",
    "\n",
    "2) The training set had close to 60,000 observations after removing blank lines, while the test set had close to 24,000 observations after blank line removal \n",
    "\n",
    "4) Missing values: The training set had 5 missing text values, and no missing tags, while the test set had one missing text value.  "
   ]
  },
  {
   "cell_type": "code",
   "execution_count": 318,
   "metadata": {
    "code_folding": [
     0
    ]
   },
   "outputs": [],
   "source": [
    "#quick analysis \n",
    "def quick_analysis(df): \n",
    "    print('Data Types: \\n',df.dtypes)\n",
    "    print('\\nData Shape: \\n',df.shape)\n",
    "    print('\\nOverall Info: \\n', df.info())\n",
    "    print('\\nNull Values: \\n', df.isna().sum())"
   ]
  },
  {
   "cell_type": "markdown",
   "metadata": {},
   "source": [
    "## Data Information  "
   ]
  },
  {
   "cell_type": "code",
   "execution_count": 319,
   "metadata": {
    "code_folding": [
     0
    ]
   },
   "outputs": [
    {
     "name": "stdout",
     "output_type": "stream",
     "text": [
      "Data Types: \n",
      " text    object\n",
      "tag     object\n",
      "dtype: object\n",
      "\n",
      "Data Shape: \n",
      " (62730, 2)\n",
      "<class 'pandas.core.frame.DataFrame'>\n",
      "RangeIndex: 62730 entries, 0 to 62729\n",
      "Data columns (total 2 columns):\n",
      " #   Column  Non-Null Count  Dtype \n",
      "---  ------  --------------  ----- \n",
      " 0   text    62725 non-null  object\n",
      " 1   tag     62730 non-null  object\n",
      "dtypes: object(2)\n",
      "memory usage: 980.3+ KB\n",
      "\n",
      "Overall Info: \n",
      " None\n",
      "\n",
      "Null Values: \n",
      " text    5\n",
      "tag     0\n",
      "dtype: int64\n"
     ]
    }
   ],
   "source": [
    "# training set \n",
    "quick_analysis(train)"
   ]
  },
  {
   "cell_type": "code",
   "execution_count": 320,
   "metadata": {
    "code_folding": [
     0
    ]
   },
   "outputs": [
    {
     "name": "stdout",
     "output_type": "stream",
     "text": [
      "Data Types: \n",
      " text    object\n",
      "dtype: object\n",
      "\n",
      "Data Shape: \n",
      " (23394, 1)\n",
      "<class 'pandas.core.frame.DataFrame'>\n",
      "RangeIndex: 23394 entries, 0 to 23393\n",
      "Data columns (total 1 columns):\n",
      " #   Column  Non-Null Count  Dtype \n",
      "---  ------  --------------  ----- \n",
      " 0   text    23393 non-null  object\n",
      "dtypes: object(1)\n",
      "memory usage: 182.9+ KB\n",
      "\n",
      "Overall Info: \n",
      " None\n",
      "\n",
      "Null Values: \n",
      " text    1\n",
      "dtype: int64\n"
     ]
    }
   ],
   "source": [
    "#test set \n",
    "quick_analysis(test)"
   ]
  },
  {
   "cell_type": "markdown",
   "metadata": {},
   "source": [
    "# Data Preprocessing: \n",
    "<br>\n",
    "1) Since the test set only contained one missing record we dropped it \n",
    "\n",
    "2) The missing records in the training set were from the text feature and we had five such records, these missing text records were also dropped due to their quantity\n"
   ]
  },
  {
   "cell_type": "code",
   "execution_count": 321,
   "metadata": {
    "code_folding": [
     0
    ]
   },
   "outputs": [],
   "source": [
    "#dropping missing records \n",
    "test.dropna(inplace = True)\n",
    "train.dropna(inplace = True)"
   ]
  },
  {
   "cell_type": "code",
   "execution_count": 322,
   "metadata": {
    "code_folding": [
     0
    ]
   },
   "outputs": [
    {
     "name": "stdout",
     "output_type": "stream",
     "text": [
      "We Have 14876 unique words and 13 unique tags.\n"
     ]
    }
   ],
   "source": [
    "#number of unique tokens \n",
    "print(\"We Have {} unique words and {} unique tags.\".format(train.text.nunique(),train.tag.nunique()))"
   ]
  },
  {
   "cell_type": "markdown",
   "metadata": {},
   "source": [
    "# EDA \n",
    "<br>\n",
    "1) We took a look at the number of observations of each of our tags. By far the most common tag is O (outside), following that was the B tag (beginning of the chunk) \n",
    "\n",
    "2) The most common token was found to be the person entity either occurring at the beginning or inside the chunk"
   ]
  },
  {
   "cell_type": "code",
   "execution_count": 323,
   "metadata": {
    "code_folding": [],
    "scrolled": true
   },
   "outputs": [
    {
     "data": {
      "text/plain": [
       "O                  59565\n",
       "B-person             660\n",
       "B-location           548\n",
       "I-person             335\n",
       "B-group              264\n",
       "I-location           245\n",
       "B-corporation        221\n",
       "I-creative-work      206\n",
       "I-product            203\n",
       "I-group              150\n",
       "B-product            142\n",
       "B-creative-work      140\n",
       "I-corporation         46\n",
       "Name: tag, dtype: int64"
      ]
     },
     "execution_count": 323,
     "metadata": {},
     "output_type": "execute_result"
    }
   ],
   "source": [
    "# tag counts \n",
    "train.tag.value_counts()"
   ]
  },
  {
   "cell_type": "code",
   "execution_count": 324,
   "metadata": {
    "code_folding": [
     0
    ]
   },
   "outputs": [
    {
     "data": {
      "image/png": "[encoded data removed]",
      "text/plain": [
       "<Figure size 1080x432 with 1 Axes>"
      ]
     },
     "metadata": {
      "needs_background": "light"
     },
     "output_type": "display_data"
    }
   ],
   "source": [
    "#visualizing tag counts \n",
    "plt.figure(figsize = (15,6))\n",
    "sns.countplot(data= train[train.tag != 'O'], x= 'tag')\n",
    "plt.title(\"Tag Counts\")\n",
    "plt.show()"
   ]
  },
  {
   "cell_type": "markdown",
   "metadata": {},
   "source": [
    "# Feature Engineering: \n",
    "<br>\n",
    "\n",
    "1) We removed some of the noise in our text as a preprocessing step. We didn't remove stop words because they would get the 'O' tag either way, we removed urls so that our classifier doesn't mistakingly classify without looking at the website, and finally we removed parentheses and square brackets. \n",
    "\n",
    "2) We used DictVectorizer from sklearn to transform the text features into feature indices. This is done so that we can pass our input to the chosen algorithms \n",
    "\n",
    "3) Our transformed training vector has about 15000 feature indices \n",
    "\n"
   ]
  },
  {
   "cell_type": "markdown",
   "metadata": {},
   "source": [
    "## Noise Removal"
   ]
  },
  {
   "cell_type": "code",
   "execution_count": 327,
   "metadata": {
    "code_folding": [
     0
    ]
   },
   "outputs": [],
   "source": [
    "def noise_removal(text): \n",
    "    #remove urls \n",
    "    text = re.sub('http://','',text)\n",
    "    #remove paranthesis \n",
    "    text = text.replace(')','').replace('(',\"\")\n",
    "    #remove square brackets \n",
    "    text = text.replace(']','').replace('[','')\n",
    "    return text \n",
    "\n",
    "train['text'] = train.text.apply(lambda x: noise_removal(x))\n",
    "test['text'] = test.text.apply(lambda x: noise_removal(x))"
   ]
  },
  {
   "cell_type": "markdown",
   "metadata": {},
   "source": [
    "## Feature Extraction"
   ]
  },
  {
   "cell_type": "code",
   "execution_count": 328,
   "metadata": {},
   "outputs": [],
   "source": [
    "from sklearn.feature_extraction import DictVectorizer"
   ]
  },
  {
   "cell_type": "code",
   "execution_count": 329,
   "metadata": {
    "code_folding": []
   },
   "outputs": [],
   "source": [
    "#preparing the train\n",
    "x = train.drop(\"tag\",axis = 1)\n",
    "v_train = DictVectorizer(sparse = False) \n",
    "x = v_train.fit_transform(x.to_dict('records'))\n",
    "\n"
   ]
  },
  {
   "cell_type": "code",
   "execution_count": 330,
   "metadata": {
    "code_folding": []
   },
   "outputs": [
    {
     "data": {
      "text/plain": [
       "'The transformed training vector has 14832 feature indices.'"
      ]
     },
     "execution_count": 330,
     "metadata": {},
     "output_type": "execute_result"
    }
   ],
   "source": [
    "#after transformation\n",
    "\"The transformed training vector has {} feature indices.\"\\\n",
    ".format(x.shape[1])"
   ]
  },
  {
   "cell_type": "markdown",
   "metadata": {},
   "source": [
    "# Modeling: \n",
    "\n"
   ]
  },
  {
   "cell_type": "markdown",
   "metadata": {},
   "source": [
    "## Summary, Results, and Question Solutions: \n",
    "\n",
    "### Modeling Strategy:\n",
    "<br>\n",
    "We used a multitude of classic multi-label classifiers to predict text tags, the models included linear classifiers in SGD and linear support vector machines under the assumption that a linear hyperplane with max margins could be found, Naive Bayes classifier due to its capability of generating likelihoods of a text belonging to a tag, and RandomForest due to its ensemble nature which aggregates the results of decorrelated models. \n",
    "\n",
    "<br>\n",
    "\n",
    "### Prediction Results:\n",
    "\n",
    "<br>\n",
    "\n",
    "\n",
    "Each model was first evaluated based on a classification report where micro and macro averaging methods were used. The F1-score was the metric of choice as it allows us to gain a balance between precision and recall, our best F1-score came from the Perceptron and LinearSVC each with a micro-average of 0.33 and a macro-average of 0.26 with Naive Bayes being a close second.\n",
    "\n",
    "<br>\n",
    "\n",
    "Each model's performance and discriminative ability were found through subset accuracy and the Hamming loss. All models performed similarly with an accuracy near 95% and a loss close to 0.04. Our best performing model was Multinomial Naive Bayes with an accuracy of 95.8% and a loss of 0.042. LinearSVC was a close second which was expected due to its known prowess in text classification. \n",
    "\n",
    "<br>\n",
    "\n",
    "### Metric Choices: \n",
    "\n",
    "<br>\n",
    "\n",
    "Subset accuracy and the Hamming loss were chosen as metrics for the following reasons:\n",
    "\n",
    "<br>\n",
    "\n",
    "\n",
    "Since our problem is a multi-label classification problem, we must take into account that a prediction which contains a subset of the actual classes is better than one which contains none of them. \n",
    "\n",
    "<br>\n",
    "\n",
    "The Exact Match Ratio gives us the percentage of matches that have all their labels correctly classified, this has the disadvantage of ignoring partially correct answers, but will be useful as a strict metric of our model's ability to correctly classify all the labels.  \n",
    "\n",
    "<br>\n",
    "\n",
    "\n",
    "To obtain a more accurate view of the performance of our classifier on a label-by-label basis we will also use the Hamming loss which is the fraction of labels that are incorrectly predicted (ie; fraction of wrong labels over total number of labels). \n",
    "    \n"
   ]
  },
  {
   "cell_type": "markdown",
   "metadata": {},
   "source": [
    "## Importing models and splitting the data "
   ]
  },
  {
   "cell_type": "code",
   "execution_count": 331,
   "metadata": {},
   "outputs": [],
   "source": [
    "#imports \n",
    "from sklearn.model_selection import train_test_split\n",
    "from sklearn.linear_model import Perceptron\n",
    "from sklearn.linear_model import SGDClassifier\n",
    "from sklearn.svm import LinearSVC\n",
    "from sklearn.linear_model import PassiveAggressiveClassifier\n",
    "from sklearn.naive_bayes import MultinomialNB\n",
    "from sklearn.ensemble import RandomForestClassifier\n",
    "from sklearn.metrics import classification_report\n",
    "from sklearn.metrics import accuracy_score, hamming_loss\n"
   ]
  },
  {
   "cell_type": "code",
   "execution_count": 332,
   "metadata": {},
   "outputs": [],
   "source": [
    "# splitting data \n",
    "y = train.tag.values\n",
    "classes = np.unique(y)\n",
    "classes = classes.tolist()\n",
    "\n",
    "\n",
    "x_train, x_test, y_train, y_test = train_test_split(x, y, test_size= 0.3, random_state = 0) "
   ]
  },
  {
   "cell_type": "markdown",
   "metadata": {},
   "source": [
    "## Adjusting Classes: \n",
    " \n",
    "Since our most common class is O (outside), it will make our predictions better than they actually are and to adjust for that, I will remove it from our classes as we evaluate our models\n",
    "\n",
    "\n"
   ]
  },
  {
   "cell_type": "code",
   "execution_count": 333,
   "metadata": {},
   "outputs": [
    {
     "data": {
      "text/plain": [
       "['B-corporation',\n",
       " 'B-creative-work',\n",
       " 'B-group',\n",
       " 'B-location',\n",
       " 'B-person',\n",
       " 'B-product',\n",
       " 'I-corporation',\n",
       " 'I-creative-work',\n",
       " 'I-group',\n",
       " 'I-location',\n",
       " 'I-person',\n",
       " 'I-product']"
      ]
     },
     "execution_count": 333,
     "metadata": {},
     "output_type": "execute_result"
    }
   ],
   "source": [
    "new_class = classes.copy()\n",
    "new_class.pop()\n",
    "new_class"
   ]
  },
  {
   "cell_type": "markdown",
   "metadata": {},
   "source": [
    "## Fitting Our Classifiers"
   ]
  },
  {
   "cell_type": "code",
   "execution_count": 334,
   "metadata": {},
   "outputs": [
    {
     "data": {
      "text/plain": [
       "PassiveAggressiveClassifier(C=1.0, average=False, class_weight=None,\n",
       "                            early_stopping=False, fit_intercept=True,\n",
       "                            loss='hinge', max_iter=1000, n_iter_no_change=5,\n",
       "                            n_jobs=None, random_state=None, shuffle=True,\n",
       "                            tol=0.001, validation_fraction=0.1, verbose=0,\n",
       "                            warm_start=False)"
      ]
     },
     "execution_count": 334,
     "metadata": {},
     "output_type": "execute_result"
    }
   ],
   "source": [
    "#Perceptron \n",
    "per = Perceptron(n_jobs= -1)\n",
    "per.fit(x_train,y_train)\n",
    "\n",
    "# SGD Linear Classifier \n",
    "sgd = SGDClassifier(n_jobs= -1 )\n",
    "sgd.fit(x_train,y_train)\n",
    "\n",
    "#SVC classifier \n",
    "svc = LinearSVC(random_state= 0)\n",
    "svc.fit(x_train,y_train)\n",
    "\n",
    "#Naive Bayes classifier for multinomial models\n",
    "nb = MultinomialNB(alpha= 0.01)\n",
    "nb.fit(x_train,y_train)\n",
    "\n",
    "# RandomForest\n",
    "rf = RandomForestClassifier(n_jobs =-1, n_estimators= 2,max_depth=6, random_state= 0) \n",
    "rf.fit(x_train,y_train)\n",
    "\n",
    "#Passive Aggressive Classifier\n",
    "pas = PassiveAggressiveClassifier()\n",
    "pas.fit(x_train,y_train)\n",
    "\n"
   ]
  },
  {
   "cell_type": "markdown",
   "metadata": {},
   "source": [
    "## Predictions and Model Evaluation \n",
    "\n",
    "Here we predict on the data we held out for validation and use a classification report to check our model's predictive power \n",
    "\n",
    "For evaluating our model we will use the hamming loss and the exact match ratio (subset accuracy) \n",
    "\n",
    "\n"
   ]
  },
  {
   "cell_type": "code",
   "execution_count": 335,
   "metadata": {
    "code_folding": [
     0
    ]
   },
   "outputs": [],
   "source": [
    "# predictions\n",
    "per_pred = per.predict(x_test)\n",
    "sgd_pred= sgd.predict(x_test)\n",
    "nb_pred = nb.predict(x_test)\n",
    "svc_pred = svc.predict(x_test)\n",
    "rf_pred = rf.predict(x_test)\n",
    "pas_pred = pas.predict(x_test)\n",
    "\n"
   ]
  },
  {
   "cell_type": "code",
   "execution_count": 343,
   "metadata": {
    "code_folding": [
     0
    ],
    "scrolled": false
   },
   "outputs": [
    {
     "name": "stdout",
     "output_type": "stream",
     "text": [
      "Detailed Model Results: \n",
      "\n",
      "Perceptron classification report: \n",
      "                 precision    recall  f1-score   support\n",
      "\n",
      "  B-corporation       0.42      0.48      0.44        67\n",
      "B-creative-work       0.11      0.03      0.04        40\n",
      "        B-group       0.53      0.17      0.26        98\n",
      "     B-location       0.80      0.29      0.43       174\n",
      "       B-person       0.76      0.32      0.45       201\n",
      "      B-product       1.00      0.24      0.39        37\n",
      "  I-corporation       0.25      0.10      0.14        10\n",
      "I-creative-work       0.32      0.16      0.21        56\n",
      "        I-group       0.17      0.05      0.07        43\n",
      "     I-location       0.29      0.12      0.17        76\n",
      "       I-person       0.59      0.18      0.28        87\n",
      "      I-product       0.41      0.14      0.21        50\n",
      "\n",
      "      micro avg       0.55      0.23      0.33       939\n",
      "      macro avg       0.47      0.19      0.26       939\n",
      "   weighted avg       0.57      0.23      0.32       939\n",
      "\n",
      "\n",
      "\n",
      "Perceptron Subset Accuracy: 95.637%\n",
      "\n",
      "Perceptron Hamming Loss: 4.363%\n",
      "\n",
      "\n",
      "\n",
      "\n",
      "\n",
      "SGD classification report: \n",
      "                 precision    recall  f1-score   support\n",
      "\n",
      "  B-corporation       1.00      0.24      0.39        67\n",
      "B-creative-work       1.00      0.00      0.00        40\n",
      "        B-group       1.00      0.00      0.00        98\n",
      "     B-location       1.00      0.02      0.03       174\n",
      "       B-person       1.00      0.09      0.16       201\n",
      "      B-product       1.00      0.05      0.10        37\n",
      "  I-corporation       1.00      0.00      0.00        10\n",
      "I-creative-work       1.00      0.00      0.00        56\n",
      "        I-group       1.00      0.00      0.00        43\n",
      "     I-location       1.00      0.00      0.00        76\n",
      "       I-person       0.86      0.07      0.13        87\n",
      "      I-product       1.00      0.00      0.00        50\n",
      "\n",
      "      micro avg       0.98      0.05      0.09       939\n",
      "      macro avg       0.99      0.04      0.07       939\n",
      "   weighted avg       0.99      0.05      0.08       939\n",
      "\n",
      "\n",
      "\n",
      "SGD Subset Accuracy: 95.249%\n",
      "\n",
      "SGD Hamming Loss: 4.751%\n",
      "\n",
      "\n",
      "\n",
      "\n",
      "\n",
      "NB classification report: \n",
      "                 precision    recall  f1-score   support\n",
      "\n",
      "  B-corporation       0.86      0.46      0.60        67\n",
      "B-creative-work       0.14      0.03      0.04        40\n",
      "        B-group       0.61      0.17      0.27        98\n",
      "     B-location       0.80      0.30      0.44       174\n",
      "       B-person       0.81      0.26      0.39       201\n",
      "      B-product       1.00      0.22      0.36        37\n",
      "  I-corporation       0.33      0.10      0.15        10\n",
      "I-creative-work       0.28      0.09      0.14        56\n",
      "        I-group       0.29      0.05      0.08        43\n",
      "     I-location       0.30      0.09      0.14        76\n",
      "       I-person       0.59      0.20      0.29        87\n",
      "      I-product       0.38      0.12      0.18        50\n",
      "\n",
      "      micro avg       0.65      0.21      0.32       939\n",
      "      macro avg       0.53      0.17      0.26       939\n",
      "   weighted avg       0.62      0.21      0.31       939\n",
      "\n",
      "\n",
      "\n",
      "NB Subset Accuracy: 95.818%\n",
      "\n",
      "NB Hamming Loss: 4.182%\n",
      "\n",
      "\n",
      "\n",
      "\n",
      "\n",
      "LinearSVC classification report: \n",
      "                 precision    recall  f1-score   support\n",
      "\n",
      "  B-corporation       0.86      0.46      0.60        67\n",
      "B-creative-work       0.07      0.03      0.04        40\n",
      "        B-group       0.61      0.17      0.27        98\n",
      "     B-location       0.80      0.30      0.44       174\n",
      "       B-person       0.80      0.28      0.42       201\n",
      "      B-product       1.00      0.24      0.39        37\n",
      "  I-corporation       0.33      0.10      0.15        10\n",
      "I-creative-work       0.26      0.11      0.15        56\n",
      "        I-group       0.29      0.05      0.08        43\n",
      "     I-location       0.30      0.09      0.14        76\n",
      "       I-person       0.59      0.20      0.29        87\n",
      "      I-product       0.38      0.12      0.18        50\n",
      "\n",
      "      micro avg       0.64      0.22      0.33       939\n",
      "      macro avg       0.52      0.18      0.26       939\n",
      "   weighted avg       0.62      0.22      0.32       939\n",
      "\n",
      "\n",
      "\n",
      "LinearSVC Subset Accuracy: 95.791%\n",
      "\n",
      "LinearSVC Hamming Loss: 4.209%\n",
      "\n",
      "\n",
      "\n",
      "\n",
      "\n",
      "RandomForest Classifier classification report: \n",
      "                 precision    recall  f1-score   support\n",
      "\n",
      "  B-corporation       1.00      0.00      0.00        67\n",
      "B-creative-work       1.00      0.00      0.00        40\n",
      "        B-group       1.00      0.00      0.00        98\n",
      "     B-location       1.00      0.00      0.00       174\n",
      "       B-person       1.00      0.00      0.00       201\n",
      "      B-product       1.00      0.00      0.00        37\n",
      "  I-corporation       1.00      0.00      0.00        10\n",
      "I-creative-work       1.00      0.00      0.00        56\n",
      "        I-group       1.00      0.00      0.00        43\n",
      "     I-location       1.00      0.00      0.00        76\n",
      "       I-person       1.00      0.00      0.00        87\n",
      "      I-product       1.00      0.00      0.00        50\n",
      "\n",
      "      micro avg       1.00      0.00      0.00       939\n",
      "      macro avg       1.00      0.00      0.00       939\n",
      "   weighted avg       1.00      0.00      0.00       939\n",
      "\n",
      "\n",
      "\n",
      "RandomForest Classifier Subset Accuracy: 95.010%\n",
      "\n",
      "RandomForest Classifier Hamming Loss: 4.990%\n",
      "\n",
      "\n",
      "\n",
      "\n",
      "\n",
      "Passive Aggressive Classifier classification report: \n",
      "                 precision    recall  f1-score   support\n",
      "\n",
      "  B-corporation       0.86      0.48      0.62        67\n",
      "B-creative-work       0.14      0.07      0.10        40\n",
      "        B-group       0.26      0.19      0.22        98\n",
      "     B-location       0.74      0.28      0.41       174\n",
      "       B-person       0.75      0.32      0.45       201\n",
      "      B-product       1.00      0.27      0.43        37\n",
      "  I-corporation       0.09      0.10      0.10        10\n",
      "I-creative-work       0.15      0.20      0.17        56\n",
      "        I-group       0.20      0.09      0.13        43\n",
      "     I-location       0.24      0.05      0.09        76\n",
      "       I-person       0.61      0.20      0.30        87\n",
      "      I-product       0.46      0.12      0.19        50\n",
      "\n",
      "      micro avg       0.49      0.23      0.32       939\n",
      "      macro avg       0.46      0.20      0.27       939\n",
      "   weighted avg       0.55      0.23      0.32       939\n",
      "\n",
      "\n",
      "\n",
      "Passive Aggressive Classifier Subset Accuracy: 95.377%\n",
      "\n",
      "Passive Aggressive Classifier Hamming Loss: 4.623%\n",
      "\n",
      "\n",
      "\n",
      "\n",
      "\n"
     ]
    }
   ],
   "source": [
    "# Classification Reports \n",
    "\n",
    "models = ['Perceptron','SGD', 'NB', 'LinearSVC','RandomForest Classifier','Passive Aggressive Classifier']\n",
    "preds = [per_pred, sgd_pred, nb_pred, svc_pred, rf_pred, pas_pred]\n",
    "\n",
    "def class_report(models, preds): \n",
    "\n",
    " \n",
    "\n",
    "    print('Detailed Model Results: \\n')\n",
    "    for pred,model in zip(preds,models):\n",
    "\n",
    "        print(f\"{model} classification report: \\n{classification_report(y_test,pred,zero_division=1,labels=new_class)}\")\n",
    "        print('\\n')\n",
    "        print(f\"{model} Subset Accuracy: {accuracy_score(y_test,pred):.3%}\\n\")\n",
    "        print(f\"{model} Hamming Loss: {hamming_loss(y_test,pred, ):.3%}\\n\")\n",
    "        print('\\n')\n",
    "        print('\\n')\n",
    "\n",
    "class_report(models,preds)"
   ]
  },
  {
   "cell_type": "markdown",
   "metadata": {},
   "source": [
    "# Test Set Predictions \n",
    "\n",
    "We use our two best models; NB, and linearSVC for our test set predictions"
   ]
  },
  {
   "cell_type": "code",
   "execution_count": 344,
   "metadata": {
    "scrolled": true
   },
   "outputs": [],
   "source": [
    "#transform\n",
    "test_arr = v_train.transform(test.to_dict('records'))"
   ]
  },
  {
   "cell_type": "code",
   "execution_count": 345,
   "metadata": {},
   "outputs": [],
   "source": [
    "nb_test_pred = nb.predict(test_arr)\n",
    "svc_test_pred = svc.predict(test_arr)"
   ]
  },
  {
   "cell_type": "code",
   "execution_count": 346,
   "metadata": {},
   "outputs": [],
   "source": [
    "#appending predictions \n",
    "test['NB_predicitons'] = nb_test_pred\n",
    "test['LinearSVC_predictions']= svc_test_pred"
   ]
  },
  {
   "cell_type": "code",
   "execution_count": 347,
   "metadata": {
    "scrolled": false
   },
   "outputs": [
    {
     "data": {
      "text/html": [
       "<div>\n",
       "<style scoped>\n",
       "    .dataframe tbody tr th:only-of-type {\n",
       "        vertical-align: middle;\n",
       "    }\n",
       "\n",
       "    .dataframe tbody tr th {\n",
       "        vertical-align: top;\n",
       "    }\n",
       "\n",
       "    .dataframe thead th {\n",
       "        text-align: right;\n",
       "    }\n",
       "</style>\n",
       "<table border=\"1\" class=\"dataframe\">\n",
       "  <thead>\n",
       "    <tr style=\"text-align: right;\">\n",
       "      <th></th>\n",
       "      <th>text</th>\n",
       "      <th>NB_predicitons</th>\n",
       "      <th>LinearSVC_predictions</th>\n",
       "    </tr>\n",
       "  </thead>\n",
       "  <tbody>\n",
       "    <tr>\n",
       "      <th>0</th>\n",
       "      <td>&amp;</td>\n",
       "      <td>O</td>\n",
       "      <td>O</td>\n",
       "    </tr>\n",
       "    <tr>\n",
       "      <th>1</th>\n",
       "      <td>gt</td>\n",
       "      <td>O</td>\n",
       "      <td>O</td>\n",
       "    </tr>\n",
       "    <tr>\n",
       "      <th>2</th>\n",
       "      <td>;</td>\n",
       "      <td>O</td>\n",
       "      <td>O</td>\n",
       "    </tr>\n",
       "    <tr>\n",
       "      <th>3</th>\n",
       "      <td>*</td>\n",
       "      <td>O</td>\n",
       "      <td>O</td>\n",
       "    </tr>\n",
       "    <tr>\n",
       "      <th>4</th>\n",
       "      <td>The</td>\n",
       "      <td>O</td>\n",
       "      <td>O</td>\n",
       "    </tr>\n",
       "    <tr>\n",
       "      <th>...</th>\n",
       "      <td>...</td>\n",
       "      <td>...</td>\n",
       "      <td>...</td>\n",
       "    </tr>\n",
       "    <tr>\n",
       "      <th>23389</th>\n",
       "      <td>with</td>\n",
       "      <td>O</td>\n",
       "      <td>O</td>\n",
       "    </tr>\n",
       "    <tr>\n",
       "      <th>23390</th>\n",
       "      <td>this</td>\n",
       "      <td>O</td>\n",
       "      <td>O</td>\n",
       "    </tr>\n",
       "    <tr>\n",
       "      <th>23391</th>\n",
       "      <td>dress</td>\n",
       "      <td>O</td>\n",
       "      <td>O</td>\n",
       "    </tr>\n",
       "    <tr>\n",
       "      <th>23392</th>\n",
       "      <td>code</td>\n",
       "      <td>O</td>\n",
       "      <td>O</td>\n",
       "    </tr>\n",
       "    <tr>\n",
       "      <th>23393</th>\n",
       "      <td>😂</td>\n",
       "      <td>O</td>\n",
       "      <td>O</td>\n",
       "    </tr>\n",
       "  </tbody>\n",
       "</table>\n",
       "<p>23393 rows × 3 columns</p>\n",
       "</div>"
      ],
      "text/plain": [
       "        text NB_predicitons LinearSVC_predictions\n",
       "0          &              O                     O\n",
       "1         gt              O                     O\n",
       "2          ;              O                     O\n",
       "3          *              O                     O\n",
       "4        The              O                     O\n",
       "...      ...            ...                   ...\n",
       "23389   with              O                     O\n",
       "23390   this              O                     O\n",
       "23391  dress              O                     O\n",
       "23392   code              O                     O\n",
       "23393      😂              O                     O\n",
       "\n",
       "[23393 rows x 3 columns]"
      ]
     },
     "execution_count": 347,
     "metadata": {},
     "output_type": "execute_result"
    }
   ],
   "source": [
    "test"
   ]
  },
  {
   "cell_type": "code",
   "execution_count": 348,
   "metadata": {},
   "outputs": [],
   "source": [
    "#output to csv \n",
    "test.to_csv(\"test_predictions.csv\",index= False)"
   ]
  },
  {
   "cell_type": "markdown",
   "metadata": {
    "heading_collapsed": true
   },
   "source": [
    "# Further Work: \n",
    "\n",
    "To improve our results, particularly our precision and recall (and hence our F-score), I would proceed as follows \n",
    "\n",
    "<br>\n",
    "\n",
    "1) Get the full sentences which our tokens come from, this will allow us to identify the context the tokens are being used in, and would allow for better POS-tagging and feature engineering \n",
    "\n",
    "\n",
    "\n",
    "2) Utilize Bidirectional LSTM and recurrent neural networks to further improve our predictive power "
   ]
  }
 ],
 "metadata": {
  "kernelspec": {
   "display_name": "Python 3",
   "language": "python",
   "name": "python3"
  },
  "language_info": {
   "codemirror_mode": {
    "name": "ipython",
    "version": 3
   },
   "file_extension": ".py",
   "mimetype": "text/x-python",
   "name": "python",
   "nbconvert_exporter": "python",
   "pygments_lexer": "ipython3",
   "version": "3.7.6"
  },
  "toc": {
   "base_numbering": 1,
   "nav_menu": {},
   "number_sections": true,
   "sideBar": true,
   "skip_h1_title": false,
   "title_cell": "Table of Contents",
   "title_sidebar": "Contents",
   "toc_cell": false,
   "toc_position": {
    "height": "calc(100% - 180px)",
    "left": "10px",
    "top": "150px",
    "width": "230.4px"
   },
   "toc_section_display": true,
   "toc_window_display": false
  },
  "varInspector": {
   "cols": {
    "lenName": 16,
    "lenType": 16,
    "lenVar": 40
   },
   "kernels_config": {
    "python": {
     "delete_cmd_postfix": "",
     "delete_cmd_prefix": "del ",
     "library": "var_list.py",
     "varRefreshCmd": "print(var_dic_list())"
    },
    "r": {
     "delete_cmd_postfix": ") ",
     "delete_cmd_prefix": "rm(",
     "library": "var_list.r",
     "varRefreshCmd": "cat(var_dic_list()) "
    }
   },
   "oldHeight": 122.4,
   "position": {
    "height": "144px",
    "left": "398px",
    "right": "20px",
    "top": "162px",
    "width": "499.4px"
   },
   "types_to_exclude": [
    "module",
    "function",
    "builtin_function_or_method",
    "instance",
    "_Feature"
   ],
   "varInspector_section_display": "block",
   "window_display": false
  }
 },
 "nbformat": 4,
 "nbformat_minor": 4
}
